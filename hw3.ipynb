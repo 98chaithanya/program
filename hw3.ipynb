{
 "cells": [
  {
   "cell_type": "code",
   "execution_count": 2,
   "id": "5062ff52",
   "metadata": {},
   "outputs": [
    {
     "name": "stdout",
     "output_type": "stream",
     "text": [
      "Enter the value of 'n': 5\n",
      "Fibonacci Series:  0 1 1 2 3 "
     ]
    }
   ],
   "source": [
    "n = int(input(\"Enter the value of 'n': \"))\n",
    "a = 0\n",
    "b = 1\n",
    "sum = 0\n",
    "count = 1\n",
    "print(\"Fibonacci Series: \", end = \" \")\n",
    "while(count <= n):\n",
    "  print(sum, end = \" \")\n",
    "  count += 1\n",
    "  a = b\n",
    "  b = sum\n",
    "  sum = a + b"
   ]
  },
  {
   "cell_type": "code",
   "execution_count": 3,
   "id": "ab1c16a6",
   "metadata": {},
   "outputs": [
    {
     "name": "stdout",
     "output_type": "stream",
     "text": [
      "Please enter your own String : hello world\n",
      "Please enter your own Character : e\n",
      "The total Number of Times  e  has Occurred =  1\n"
     ]
    }
   ],
   "source": [
    "string = input(\"Please enter your own String : \")\n",
    "char = input(\"Please enter your own Character : \")\n",
    "\n",
    "count = 0\n",
    "for i in range(len(string)):\n",
    "    if(string[i] == char):\n",
    "        count = count + 1\n",
    "\n",
    "print(\"The total Number of Times \", char, \" has Occurred = \" , count)"
   ]
  },
  {
   "cell_type": "code",
   "execution_count": 4,
   "id": "b5c81d45",
   "metadata": {},
   "outputs": [
    {
     "name": "stdout",
     "output_type": "stream",
     "text": [
      "  ***  \n",
      " *   * \n",
      " *     \n",
      " * *** \n",
      " *   * \n",
      " *   * \n",
      "  ***  \n",
      "\n"
     ]
    }
   ],
   "source": [
    "result_str=\"\";    \n",
    "for row in range(0,7):    \n",
    "    for column in range(0,7):     \n",
    "        if ((column == 1 and row != 0 and row != 6) or ((row == 0 or row == 6) and column > 1 and column < 5) or (row == 3 and column > 2 and column < 6) or (column == 5 and row != 0 and row != 2 and row != 6)):  \n",
    "            result_str=result_str+\"*\"    \n",
    "        else:      \n",
    "            result_str=result_str+\" \"    \n",
    "    result_str=result_str+\"\\n\"    \n",
    "print(result_str);"
   ]
  },
  {
   "cell_type": "code",
   "execution_count": 5,
   "id": "31849f12",
   "metadata": {},
   "outputs": [
    {
     "name": "stdout",
     "output_type": "stream",
     "text": [
      "Enter the string: malayalam\n",
      "The input string malayalam starts and ends with same character!\n"
     ]
    }
   ],
   "source": [
    "import re \n",
    "def check_str(ip_str):\n",
    "    re_exp = r'^[a-z]$|^([a-z]).*\\1$'\n",
    " \n",
    "    if(re.search(re_exp, ip_str)):   \n",
    "        print(\"The input string {0} starts and ends with same character!\".format(ip_str))   \n",
    "    else:   \n",
    "        print(\"The input string {0} does not starts and ends with same character!\".format(ip_str))\n",
    "        \n",
    "ip_str = input(\"Enter the string: \")\n",
    "check_str(ip_str)"
   ]
  },
  {
   "cell_type": "code",
   "execution_count": 1,
   "id": "919e800b",
   "metadata": {},
   "outputs": [
    {
     "name": "stdout",
     "output_type": "stream",
     "text": [
      "-21 -93 "
     ]
    }
   ],
   "source": [
    "list1 = [11, -21, 0, 45, 66, -93]\n",
    "for num in list1:\n",
    "    if num < 0:\n",
    "       print(num, end = \" \")"
   ]
  },
  {
   "cell_type": "code",
   "execution_count": 4,
   "id": "00966221",
   "metadata": {},
   "outputs": [
    {
     "name": "stdout",
     "output_type": "stream",
     "text": [
      "Prime numbers between 900 and 1000 are:\n",
      "907\n",
      "911\n",
      "919\n",
      "929\n",
      "937\n",
      "941\n",
      "947\n",
      "953\n",
      "967\n",
      "971\n",
      "977\n",
      "983\n",
      "991\n",
      "997\n"
     ]
    }
   ],
   "source": [
    "lower = 900\n",
    "upper = 1000\n",
    "\n",
    "print(\"Prime numbers between\", lower, \"and\", upper, \"are:\")\n",
    "\n",
    "for num in range(lower, upper + 1):\n",
    "   \n",
    "   if num > 1:\n",
    "       for i in range(2, num):\n",
    "           if (num % i) == 0:\n",
    "               break\n",
    "       else:\n",
    "           print(num)"
   ]
  },
  {
   "cell_type": "code",
   "execution_count": 5,
   "id": "fc823312",
   "metadata": {},
   "outputs": [
    {
     "name": "stdout",
     "output_type": "stream",
     "text": [
      "Please Enter any Side of a Square  : 5\n",
      "Square Star Pattern\n",
      "*  *  *  *  *  \n",
      "*  *  *  *  *  \n",
      "*  *  *  *  *  \n",
      "*  *  *  *  *  \n",
      "*  *  *  *  *  \n"
     ]
    }
   ],
   "source": [
    "side = int(input(\"Please Enter any Side of a Square  : \"))\n",
    "\n",
    "print(\"Square Star Pattern\") \n",
    "\n",
    "for i in range(side):\n",
    "    for i in range(side):\n",
    "        print('*', end = '  ')\n",
    "    print()"
   ]
  },
  {
   "cell_type": "code",
   "execution_count": 7,
   "id": "5a51d5ad",
   "metadata": {},
   "outputs": [
    {
     "name": "stdout",
     "output_type": "stream",
     "text": [
      "Please Enter your Own String : python\n",
      "\n",
      "Original String in Lowercase  =   python\n",
      "The Given String in Uppercase =   PYTHON\n"
     ]
    }
   ],
   "source": [
    "string = input(\"Please Enter your Own String : \")\n",
    "\n",
    "string1 = string.upper()\n",
    " \n",
    "print(\"\\nOriginal String in Lowercase  =  \", string)\n",
    "print(\"The Given String in Uppercase =  \", string1)"
   ]
  },
  {
   "cell_type": "code",
   "execution_count": 10,
   "id": "984eda02",
   "metadata": {},
   "outputs": [
    {
     "name": "stdout",
     "output_type": "stream",
     "text": [
      "Enter number of rows: 5\n",
      "        1 \n",
      "      2 3 2 \n",
      "    3 4 5 4 3 \n",
      "  4 5 6 7 6 5 4 \n",
      "5 6 7 8 9 8 7 6 5 \n"
     ]
    }
   ],
   "source": [
    "rows = int(input(\"Enter number of rows: \"))\n",
    "\n",
    "k = 0\n",
    "count=0\n",
    "count1=0\n",
    "\n",
    "for i in range(1, rows+1):\n",
    "    for space in range(1, (rows-i)+1):\n",
    "        print(\"  \", end=\"\")\n",
    "        count+=1\n",
    "    \n",
    "    while k!=((2*i)-1):\n",
    "        if count<=rows-1:\n",
    "            print(i+k, end=\" \")\n",
    "            count+=1\n",
    "        else:\n",
    "            count1+=1\n",
    "            print(i+k-(2*count1), end=\" \")\n",
    "        k += 1\n",
    "    \n",
    "    count1 = count = k = 0\n",
    "    print()"
   ]
  },
  {
   "cell_type": "code",
   "execution_count": 14,
   "id": "c5784e6f",
   "metadata": {},
   "outputs": [
    {
     "name": "stdout",
     "output_type": "stream",
     "text": [
      "\n",
      "1 \n",
      "2 2 \n",
      "3 3 3 \n",
      "4 4 4 4 \n",
      "5 5 5 5 5 \n"
     ]
    }
   ],
   "source": [
    "rows = 6\n",
    "\n",
    "for num in range(rows):\n",
    "\n",
    "    for i in range(num):\n",
    "\n",
    "        print(num,end=' ') # print number\n",
    "\n",
    "    print()"
   ]
  },
  {
   "cell_type": "code",
   "execution_count": 20,
   "id": "6a7adb09",
   "metadata": {},
   "outputs": [
    {
     "name": "stdout",
     "output_type": "stream",
     "text": [
      "1  \n",
      "1 1  \n",
      "1 1 1  \n",
      "1 1 1 1  \n",
      "1 1 1 1 1  \n",
      "1 1 1 1 1 1  \n",
      "1 1 1 1 1 1  \n",
      "1 1 1 1 1  \n",
      "1 1 1 1  \n",
      "1 1 1  \n",
      "1 1  \n",
      "1  \n",
      " \n"
     ]
    }
   ],
   "source": [
    "for i in range(0, rows):  \n",
    "    for j in range(0, i + 1):  \n",
    "        print(\"1\", end=' ')  \n",
    "        print(\" \")   \n",
    "for i in range(rows + 1, 0, -1):  \n",
    "    for j in range(0, i - 1):  \n",
    "        print(\"1\", end=' ')  \n",
    "    print(\" \")  "
   ]
  },
  {
   "cell_type": "code",
   "execution_count": 21,
   "id": "3279074b",
   "metadata": {},
   "outputs": [
    {
     "name": "stdout",
     "output_type": "stream",
     "text": [
      "True\n",
      "False\n"
     ]
    }
   ],
   "source": [
    "def common_member(a, b):\n",
    "    a_set = set(a)\n",
    "    b_set = set(b)\n",
    "    if len(a_set.intersection(b_set)) > 0:\n",
    "        return(True) \n",
    "    return(False)   \n",
    "  \n",
    "a = [1, 2, 3, 4, 5]\n",
    "b = [5, 6, 7, 8, 9]\n",
    "print(common_member(a, b))\n",
    "  \n",
    "a =[1, 2, 3, 4, 5]\n",
    "b =[6, 7, 8, 9]\n",
    "print(common_member(a, b))"
   ]
  },
  {
   "cell_type": "code",
   "execution_count": 23,
   "id": "a0ac72d6",
   "metadata": {},
   "outputs": [
    {
     "name": "stdout",
     "output_type": "stream",
     "text": [
      "Second largest element is: 45\n"
     ]
    }
   ],
   "source": [
    "list1 = [10, 20, 4, 45, 99]\n",
    "list1.sort()\n",
    "print(\"Second largest element is:\", list1[-2])"
   ]
  },
  {
   "cell_type": "code",
   "execution_count": 29,
   "id": "227660b4",
   "metadata": {},
   "outputs": [
    {
     "name": "stdout",
     "output_type": "stream",
     "text": [
      "{'a': 1, 'b': 2, 'c': 3}\n"
     ]
    }
   ],
   "source": [
    "def Convert(lst):\n",
    "    res_dct = {lst[i]: lst[i + 1] for i in range(0, len(lst), 2)}\n",
    "    return res_dct\n",
    "lst = ['a', 1, 'b', 2, 'c', 3]\n",
    "print(Convert(lst))"
   ]
  },
  {
   "cell_type": "code",
   "execution_count": 30,
   "id": "b47064c7",
   "metadata": {},
   "outputs": [
    {
     "name": "stdout",
     "output_type": "stream",
     "text": [
      "o 4\n",
      "e 3\n",
      "t 2\n",
      "h 2\n",
      "u 2\n",
      "r 2\n"
     ]
    }
   ],
   "source": [
    "import collections\n",
    "str1 = 'thequickbrownfoxjumpsoverthelazydog'\n",
    "d = collections.defaultdict(int)\n",
    "for c in str1:\n",
    "    d[c] += 1\n",
    "\n",
    "for c in sorted(d, key=d.get, reverse=True):\n",
    "  if d[c] > 1:\n",
    "      print('%s %d' % (c, d[c]))"
   ]
  },
  {
   "cell_type": "code",
   "execution_count": 31,
   "id": "71abc534",
   "metadata": {},
   "outputs": [
    {
     "name": "stdout",
     "output_type": "stream",
     "text": [
      "14.625.498, 002\n"
     ]
    }
   ],
   "source": [
    "def Replace(str1):\n",
    "    maketrans = str1.maketrans\n",
    "    final = str1.translate(maketrans(',.', '.,', ' '))\n",
    "    return final.replace(',', \", \")\n",
    "string = \"14, 625, 498.002\"\n",
    "print(Replace(string))"
   ]
  },
  {
   "cell_type": "code",
   "execution_count": 32,
   "id": "db2c0487",
   "metadata": {},
   "outputs": [
    {
     "name": "stdout",
     "output_type": "stream",
     "text": [
      "{'one': 'Monday', 'two': 'Tuesday', 'three': 'Wednesday', 'four': 'Thursday', 'five': 'Friday', 'six': 'Saturday', 'seven': 'Sunday'}\n",
      "['one', 'two', 'three', 'four', 'five', 'six', 'seven']\n",
      "['Monday', 'Tuesday', 'Wednesday', 'Thursday', 'Friday', 'Saturday', 'Sunday']\n"
     ]
    }
   ],
   "source": [
    "day = { 'one' : 'Monday' , 'two' : 'Tuesday' , 'three' : 'Wednesday' , 'four' : 'Thursday' , 'five': 'Friday' , 'six' : 'Saturday' , 'seven': 'Sunday'}\n",
    "print(day)\n",
    "number = { 'one' : 1 , 'two' : 2 , 'three' : 3 , 'four' : 4 , 'five' : 5 , 'six' : 6 , 'seven' : 7}\n",
    "print(sorted(day , key=number.__getitem__))\n",
    "print([day[i] for i in sorted(day , key=number.__getitem__)])"
   ]
  },
  {
   "cell_type": "code",
   "execution_count": 33,
   "id": "4d740bd9",
   "metadata": {},
   "outputs": [
    {
     "name": "stdout",
     "output_type": "stream",
     "text": [
      "Original String:\n",
      "['Python', 'Exercises', 'Practice', 'Solution', 'Exercises']\n",
      "\n",
      "After removing duplicate words from the said list of strings:\n",
      "['Python', 'Exercises', 'Practice', 'Solution']\n"
     ]
    }
   ],
   "source": [
    "def unique_list(l):\n",
    "    temp = []\n",
    "    for x in l:\n",
    "        if x not in temp:\n",
    "            temp.append(x)\n",
    "    return temp\n",
    "\n",
    "text_str = [\"Python\", \"Exercises\", \"Practice\", \"Solution\", \"Exercises\"]\n",
    "print(\"Original String:\")\n",
    "print(text_str)\n",
    "print(\"\\nAfter removing duplicate words from the said list of strings:\")\n",
    "print(unique_list(text_str))\n"
   ]
  },
  {
   "cell_type": "code",
   "execution_count": 44,
   "id": "0c66a59e",
   "metadata": {},
   "outputs": [
    {
     "ename": "IndentationError",
     "evalue": "unindent does not match any outer indentation level (<tokenize>, line 28)",
     "output_type": "error",
     "traceback": [
      "\u001b[1;36m  File \u001b[1;32m\"<tokenize>\"\u001b[1;36m, line \u001b[1;32m28\u001b[0m\n\u001b[1;33m    rowsno = 7\u001b[0m\n\u001b[1;37m    ^\u001b[0m\n\u001b[1;31mIndentationError\u001b[0m\u001b[1;31m:\u001b[0m unindent does not match any outer indentation level\n"
     ]
    }
   ],
   "source": [
    "def pattern(rowsno):\n",
    " \n",
    "    \n",
    "    for i in range(1, rowsno + 1):\n",
    " \n",
    "       \n",
    "        for k in range(1, i):\n",
    "            print(\" \", end = \"\")\n",
    "         \n",
    "        \n",
    "        for j in range(i, rowsno + 1):\n",
    "            print(j, end = \" \")\n",
    " \n",
    "        print()\n",
    "     \n",
    "    \n",
    "    for i in range(rowsno - 1, 0, -1):\n",
    " \n",
    "        \n",
    "        for k in range(1, i):\n",
    "            print(\" \", end = \"\")\n",
    "         \n",
    "       \n",
    "        for j in range(i, rowsno + 1):\n",
    "            print(j, end = \" \")\n",
    " \n",
    "        print()\n",
    " rowsno = 7\n",
    " pattern(rowsno)"
   ]
  },
  {
   "cell_type": "code",
   "execution_count": 45,
   "id": "b0563934",
   "metadata": {},
   "outputs": [
    {
     "name": "stdout",
     "output_type": "stream",
     "text": [
      "1 2 3 4 5 6 7 \n",
      " 2 3 4 5 6 7 \n",
      "  3 4 5 6 7 \n",
      "   4 5 6 7 \n",
      "    5 6 7 \n",
      "     6 7 \n",
      "      7 \n",
      "     6 7 \n",
      "    5 6 7 \n",
      "   4 5 6 7 \n",
      "  3 4 5 6 7 \n",
      " 2 3 4 5 6 7 \n",
      "1 2 3 4 5 6 7 \n"
     ]
    }
   ],
   "source": [
    "def pattern(rows_no):\n",
    " \n",
    "   \n",
    "    for i in range(1, rows_no + 1):\n",
    " \n",
    "        \n",
    "        for k in range(1, i):\n",
    "            print(\" \", end = \"\")\n",
    "         \n",
    "        \n",
    "        for j in range(i, rows_no + 1):\n",
    "            print(j, end = \" \")\n",
    " \n",
    "        print()\n",
    "     \n",
    "   \n",
    "    for i in range(rows_no - 1, 0, -1):\n",
    " \n",
    "        \n",
    "        for k in range(1, i):\n",
    "            print(\" \", end = \"\")\n",
    "         \n",
    "        \n",
    "        for j in range(i, rows_no + 1):\n",
    "            print(j, end = \" \")\n",
    " \n",
    "        print()\n",
    "     \n",
    "rows_no = 7\n",
    " \n",
    "pattern(rows_no)\n",
    " \n"
   ]
  },
  {
   "cell_type": "code",
   "execution_count": 3,
   "id": "28b405bf",
   "metadata": {},
   "outputs": [
    {
     "name": "stdout",
     "output_type": "stream",
     "text": [
      "enter a number3456\n",
      "4\n"
     ]
    }
   ],
   "source": [
    "n=int(input(\"enter a number\"))\n",
    "count=0\n",
    "while(n>0):\n",
    "    n=n//10\n",
    "    count=count+1\n",
    "print(count)    \n",
    "    "
   ]
  },
  {
   "cell_type": "code",
   "execution_count": 8,
   "id": "8486bc18",
   "metadata": {},
   "outputs": [
    {
     "name": "stdout",
     "output_type": "stream",
     "text": [
      "enter a number6\n",
      "number is perfect\n"
     ]
    }
   ],
   "source": [
    "#python program to check  if a number is perfect or not\n",
    "n=int(input(\"enter a number\"))\n",
    "sum=0\n",
    "for i in range(1,n):\n",
    "    if(n%i==0):\n",
    "        sum=sum+i\n",
    "if(sum==n): \n",
    "    print(\"number is perfect\")\n",
    "else:\n",
    "    print(\"number is not perfect\")\n",
    "    "
   ]
  },
  {
   "cell_type": "markdown",
   "id": "3494a163",
   "metadata": {},
   "source": [
    "\n"
   ]
  },
  {
   "cell_type": "code",
   "execution_count": 11,
   "id": "17a83806",
   "metadata": {},
   "outputs": [
    {
     "name": "stdout",
     "output_type": "stream",
     "text": [
      "enter the number5\n",
      "15\n"
     ]
    }
   ],
   "source": [
    "# find sum of n natural numbers\n",
    "n=int(input(\"enter the number\"))\n",
    "sum=0\n",
    "for i in range(1,n+1):\n",
    "    sum=sum+i\n",
    "print(sum)    \n",
    "    "
   ]
  },
  {
   "cell_type": "code",
   "execution_count": 19,
   "id": "1b888095",
   "metadata": {},
   "outputs": [
    {
     "data": {
      "text/plain": [
       "[13, 67, 45]"
      ]
     },
     "execution_count": 19,
     "metadata": {},
     "output_type": "execute_result"
    }
   ],
   "source": [
    "#intersection of 2 list\n",
    "a=[13,45,67,24,45]\n",
    "b=[45,43,56,13,67]\n",
    "list(set(a)&set(b))"
   ]
  },
  {
   "cell_type": "code",
   "execution_count": 20,
   "id": "abe5e120",
   "metadata": {},
   "outputs": [
    {
     "name": "stdout",
     "output_type": "stream",
     "text": [
      "enter the stringmalayalam\n",
      "enter the substringmala\n",
      "sub string present in string\n"
     ]
    }
   ],
   "source": [
    "#sub srting present in a string\n",
    "string=input(\"enter the string\")\n",
    "substring=input(\"enter the substring\")\n",
    "if substring in string:\n",
    "    print(\"sub string present in string\")\n",
    "else:\n",
    "    print(\"sub string is not present in string\")"
   ]
  },
  {
   "cell_type": "code",
   "execution_count": null,
   "id": "4f584b58",
   "metadata": {},
   "outputs": [],
   "source": []
  }
 ],
 "metadata": {
  "kernelspec": {
   "display_name": "Python 3",
   "language": "python",
   "name": "python3"
  },
  "language_info": {
   "codemirror_mode": {
    "name": "ipython",
    "version": 3
   },
   "file_extension": ".py",
   "mimetype": "text/x-python",
   "name": "python",
   "nbconvert_exporter": "python",
   "pygments_lexer": "ipython3",
   "version": "3.8.8"
  }
 },
 "nbformat": 4,
 "nbformat_minor": 5
}
