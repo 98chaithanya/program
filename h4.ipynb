{
 "cells": [
  {
   "cell_type": "code",
   "execution_count": 7,
   "id": "d62d4597",
   "metadata": {},
   "outputs": [
    {
     "name": "stdout",
     "output_type": "stream",
     "text": [
      "1.addition\n",
      "2.subtraction\n",
      "3.multilication\n",
      "4.divition\n",
      "enter choice(1/2/3/4): 1\n",
      "enter the first number5\n",
      "enter the second number4\n",
      "5.0 + 4.0 = 9.0\n"
     ]
    }
   ],
   "source": [
    "#arithmetic\n",
    "def add(a,b):\n",
    "    return(a+b)\n",
    "def sub(a,b):\n",
    "    return(a-b)\n",
    "def mul(a,b):\n",
    "    return(a*b)\n",
    "def div(a,b):\n",
    "    return(a/b)\n",
    "print(\"1.addition\")\n",
    "print(\"2.subtraction\")\n",
    "print(\"3.multilication\")\n",
    "print(\"4.divition\")\n",
    "while True:\n",
    "    choice=input(\"enter choice(1/2/3/4): \")\n",
    "    if choice in('1','2','3','4'):\n",
    "        a=float(input(\"enter the first number\"))\n",
    "        b=float(input(\"enter the second number\"))\n",
    "        if choice=='1':\n",
    "            print(a,\"+\",b,\"=\",add(a,b))\n",
    "        elif choice=='2':\n",
    "            print(a,\"-\",b,\"=\",sub(a,b))\n",
    "        elif choice=='3':\n",
    "            print(a,\"*\",b,\"=\",mul(a,b))\n",
    "        elif choice=='4':\n",
    "            print(a,\"/\",b,\"=\",div(a,b))\n",
    "        break\n",
    "    else:\n",
    "        print(\"invalid input\")\n",
    "            \n",
    "        "
   ]
  },
  {
   "cell_type": "code",
   "execution_count": 11,
   "id": "949f0130",
   "metadata": {},
   "outputs": [
    {
     "name": "stdout",
     "output_type": "stream",
     "text": [
      "even number is 10\n",
      "odd number is 10\n"
     ]
    }
   ],
   "source": [
    "even=0\n",
    "odd=0\n",
    "for i in range(1,21):\n",
    "    if i%2==0:\n",
    "        even=even+1\n",
    "    else:\n",
    "        odd=odd+1\n",
    "print(\"even number is\",even)\n",
    "print(\"odd number is\",odd)\n",
    "        \n",
    "        \n",
    "    "
   ]
  },
  {
   "cell_type": "code",
   "execution_count": 15,
   "id": "4a4b3ffb",
   "metadata": {},
   "outputs": [
    {
     "name": "stdout",
     "output_type": "stream",
     "text": [
      "enter the array element\n",
      "10\n",
      "56\n",
      "5\n",
      "6\n",
      "6\n",
      "8\n",
      "6\n",
      "54\n",
      "5\n",
      "6\n",
      "[10, 56, 5, 6, 6, 8, 6, 54, 5, 6]\n",
      "sorted array is [5, 5, 6, 6, 6, 6, 8, 10, 54, 56]\n"
     ]
    }
   ],
   "source": [
    "array=[]\n",
    "print(\"enter the array element\")\n",
    "for i in range (10):\n",
    "    array.append(int(input()))\n",
    "print(array)\n",
    "array.sort()\n",
    "print('sorted array is',array)\n",
    "    "
   ]
  },
  {
   "cell_type": "code",
   "execution_count": 17,
   "id": "95dc7419",
   "metadata": {},
   "outputs": [
    {
     "name": "stdout",
     "output_type": "stream",
     "text": [
      "enter a number315\n",
      "nu,ber is not greater and even\n"
     ]
    }
   ],
   "source": [
    "n=int(input(\"enter a number\"))\n",
    "if n>100 and n%2==0:\n",
    "    print(\"is greater and even\")\n",
    "else:\n",
    "    print(\"number is not greater and even\")"
   ]
  },
  {
   "cell_type": "code",
   "execution_count": 24,
   "id": "5f2e3761",
   "metadata": {},
   "outputs": [
    {
     "name": "stdout",
     "output_type": "stream",
     "text": [
      "Name :  ammu\n",
      "Age : 67\n"
     ]
    }
   ],
   "source": [
    "def person(name,age):\n",
    "    print('Name : ',name)\n",
    "    print('Age :',age)\n",
    "person('ammu',67)\n"
   ]
  },
  {
   "cell_type": "code",
   "execution_count": 14,
   "id": "2942a860",
   "metadata": {},
   "outputs": [
    {
     "name": "stdout",
     "output_type": "stream",
     "text": [
      "[4, 6, 8, 10, 12, 14, 16, 18, 20, 22, 24, 26, 28]\n"
     ]
    }
   ],
   "source": [
    "list=[]\n",
    "for i in range (4,30):\n",
    "    if i%2==0:\n",
    "        list.append(i)\n",
    "print(list)"
   ]
  },
  {
   "cell_type": "code",
   "execution_count": 15,
   "id": "492b413e",
   "metadata": {},
   "outputs": [
    {
     "name": "stdout",
     "output_type": "stream",
     "text": [
      "enter the length of list:5\n",
      "enter the elements:\n",
      "4\n",
      "6\n",
      "7\n",
      "8\n",
      "7\n",
      "[4, 6, 8, 10, 12, 14, 16, 18, 20, 22, 24, 26, 28]\n",
      "{8, 4, 6, 7}\n"
     ]
    }
   ],
   "source": [
    "set1=set()\n",
    "list1=[]\n",
    "n=int(input(\"enter the length of list:\"))\n",
    "print(\"enter the elements:\") \n",
    "for i in range(n):\n",
    "    list1.append(int(input()))\n",
    "print(list)\n",
    "for ele in list1:\n",
    "    set1.add(ele)\n",
    "print(set1)    "
   ]
  },
  {
   "cell_type": "code",
   "execution_count": 22,
   "id": "e3b22a12",
   "metadata": {},
   "outputs": [
    {
     "name": "stdout",
     "output_type": "stream",
     "text": [
      "{1, 2, 3, 4, 5, 6, 7, 8}\n"
     ]
    }
   ],
   "source": [
    "set1={3,4,7,8,5,7}\n",
    "set2={5,6,8,2,1,7}\n",
    "print(set1.union(set2))"
   ]
  },
  {
   "cell_type": "code",
   "execution_count": 27,
   "id": "3e2313ed",
   "metadata": {},
   "outputs": [
    {
     "name": "stdout",
     "output_type": "stream",
     "text": [
      "enter the length of list3\n",
      "enter the element\n",
      "4\n",
      "5\n",
      "6\n",
      " fals\n"
     ]
    }
   ],
   "source": [
    "list1=[]\n",
    "n=int(input(\"enter the length of list\"))\n",
    "print(\"enter the element\")\n",
    "for i in range(n):\n",
    "    list1.append(int(input()))\n",
    "if list1[0]==list1[-1]:\n",
    "    print(\" true\")\n",
    "else:\n",
    "    print(\" fals\")"
   ]
  },
  {
   "cell_type": "markdown",
   "id": "b3491358",
   "metadata": {},
   "source": []
  },
  {
   "cell_type": "markdown",
   "id": "87c458d2",
   "metadata": {},
   "source": []
  },
  {
   "cell_type": "code",
   "execution_count": 32,
   "id": "56bfb1eb",
   "metadata": {},
   "outputs": [
    {
     "name": "stdout",
     "output_type": "stream",
     "text": [
      "enter the length of list3\n",
      "enter the elements\n",
      "5\n",
      "10\n",
      "34\n",
      "[5, 10, 34]\n",
      "5\n",
      "10\n"
     ]
    }
   ],
   "source": [
    "list1=[]\n",
    "n=int(input(\"enter the length of list\"))\n",
    "print(\"enter the elements\")\n",
    "for i in range(n):\n",
    "    list1.append(int(input()))\n",
    "print(list1)\n",
    "for i in list1:\n",
    "    if i%5==0:\n",
    "        print(i)"
   ]
  },
  {
   "cell_type": "code",
   "execution_count": 34,
   "id": "6df7e667",
   "metadata": {},
   "outputs": [
    {
     "name": "stdout",
     "output_type": "stream",
     "text": [
      "[1, 5, 7, 11, 13, 17, 19, 23, 25, 29, 31, 35, 37, 41, 43, 47, 49]\n"
     ]
    }
   ],
   "source": [
    "#not divisible by 2&3\n",
    "list=[]\n",
    "for i in range(1,50):\n",
    "    if i%2!=0 and i%3!=0:\n",
    "        list.append(i)\n",
    "print(list)        "
   ]
  },
  {
   "cell_type": "code",
   "execution_count": 3,
   "id": "82c987ec",
   "metadata": {},
   "outputs": [
    {
     "name": "stdout",
     "output_type": "stream",
     "text": [
      "enter the maths mark65\n",
      "enter the chemistry mark56\n",
      "enter the physics mark78\n",
      "enter the biology mark87\n",
      "enter the english mark75\n",
      "Grade C\n"
     ]
    }
   ],
   "source": [
    "sub1=int(input(\"enter the maths mark\"))\n",
    "sub2=int(input(\"enter the chemistry mark\"))\n",
    "sub3=int(input(\"enter the physics mark\"))\n",
    "sub4=int(input(\"enter the biology mark\"))\n",
    "sub5=int(input(\"enter the english mark\"))\n",
    "per=(sub1+sub2+sub3+sub4+sub5)/500*100\n",
    "if per>90:\n",
    "    print(\"Grade A\")\n",
    "elif per>80:\n",
    "    print(\"Grade B\")\n",
    "elif per>70:\n",
    "    print(\"Grade C\")\n",
    "elif per>60:\n",
    "    print(\"Grade D\")\n",
    "else:\n",
    "    print(\"fail\")"
   ]
  },
  {
   "cell_type": "code",
   "execution_count": 15,
   "id": "245cf4c7",
   "metadata": {},
   "outputs": [
    {
     "name": "stdout",
     "output_type": "stream",
     "text": [
      "enter arange100\n",
      "35\n",
      "70\n"
     ]
    }
   ],
   "source": [
    "n=int(input(\"enter arange\"))\n",
    "for i in range(1,n+1):\n",
    "    if i%7==0 and i%5==0:\n",
    "        print(i)      "
   ]
  },
  {
   "cell_type": "code",
   "execution_count": 19,
   "id": "b6bea30c",
   "metadata": {},
   "outputs": [
    {
     "name": "stdout",
     "output_type": "stream",
     "text": [
      "enter the number5\n",
      "sum of natural number 10\n"
     ]
    }
   ],
   "source": [
    "n=int(input(\"enter the number\"))\n",
    "sum=0\n",
    "for i in range(1,n):\n",
    "    sum=sum+i\n",
    "print(\"sum of natural number\",sum)    "
   ]
  },
  {
   "cell_type": "code",
   "execution_count": 20,
   "id": "2ddcf342",
   "metadata": {},
   "outputs": [
    {
     "name": "stdout",
     "output_type": "stream",
     "text": [
      "enter the number6\n",
      "sum of numbers 2.283333333333333\n"
     ]
    }
   ],
   "source": [
    "n=int(input(\"enter the number\"))\n",
    "sum=0\n",
    "for i in range(1,n):\n",
    "    sum=sum+(1/i)\n",
    "print(\"sum of numbers\",sum)    "
   ]
  },
  {
   "cell_type": "code",
   "execution_count": 31,
   "id": "398572fd",
   "metadata": {},
   "outputs": [
    {
     "name": "stdout",
     "output_type": "stream",
     "text": [
      "enter the length of list4\n",
      "enter the elements\n",
      "4\n",
      "6\n",
      "7\n",
      "9\n",
      "[4, 6, 7, 9]\n",
      "even number [4, 6]\n",
      "odd number [7, 9]\n"
     ]
    }
   ],
   "source": [
    "list1=[]\n",
    "odd=[]\n",
    "even=[]\n",
    "n=int(input(\"enter the length of list\"))\n",
    "print(\"enter the elements\")\n",
    "for i in range(n):\n",
    "    list1.append(int(input()))\n",
    "print(list1)    \n",
    "for ele in list1:\n",
    "    if ele%2==0:\n",
    "        even.append(ele)\n",
    "    else:\n",
    "        odd.append(ele)\n",
    "print(\"even number\",even)\n",
    "print(\"odd number\",odd)"
   ]
  },
  {
   "cell_type": "code",
   "execution_count": 3,
   "id": "f7eaaf1c",
   "metadata": {},
   "outputs": [
    {
     "name": "stdout",
     "output_type": "stream",
     "text": [
      "enter a stringhello world\n",
      "number of words in string\n",
      "2\n",
      "11\n"
     ]
    }
   ],
   "source": [
    "string1=input(\"enter a string\")\n",
    "char=0\n",
    "word=1\n",
    "for i in string1:\n",
    "    char=char+1\n",
    "    if (i==' '):\n",
    "        word=word+1\n",
    "print(\"number of words in string\")\n",
    "print(word)\n",
    "print(char)"
   ]
  },
  {
   "cell_type": "code",
   "execution_count": 6,
   "id": "806a4fb5",
   "metadata": {},
   "outputs": [
    {
     "name": "stdout",
     "output_type": "stream",
     "text": [
      "9828\n"
     ]
    }
   ],
   "source": [
    "dir={'A':3,'B':14,'C':234}\n",
    "tot=1\n",
    "for i in dir:\n",
    "    tot=tot*dir[i]\n",
    "print(tot)    "
   ]
  },
  {
   "cell_type": "code",
   "execution_count": 13,
   "id": "1b4a5cc5",
   "metadata": {},
   "outputs": [
    {
     "name": "stdout",
     "output_type": "stream",
     "text": [
      "enter the first string:good morning\n",
      "enter the secons string:hello world\n",
      "the letters are:\n",
      "w\n",
      "m\n",
      "h\n",
      "l\n",
      "e\n",
      "g\n",
      "n\n",
      "i\n"
     ]
    }
   ],
   "source": [
    "s1=input(\"enter the first string:\")\n",
    "s2=input(\"enter the secons string:\")\n",
    "a=list(set(s1)^set(s2))\n",
    "print(\"the letters are:\")\n",
    "for i in a:\n",
    "    print(i)"
   ]
  },
  {
   "cell_type": "code",
   "execution_count": 14,
   "id": "9308aadc",
   "metadata": {},
   "outputs": [
    {
     "data": {
      "text/plain": [
       "{'amrutha': '34', 'anagha': '56', 'rahul': '34'}"
      ]
     },
     "execution_count": 14,
     "metadata": {},
     "output_type": "execute_result"
    }
   ],
   "source": [
    "list1=['amrutha','anagha','rahul']\n",
    "list2=['34','56','34']\n",
    "dict(zip(list1,list2))\n"
   ]
  },
  {
   "cell_type": "code",
   "execution_count": null,
   "id": "531b2981",
   "metadata": {},
   "outputs": [],
   "source": []
  }
 ],
 "metadata": {
  "kernelspec": {
   "display_name": "Python 3",
   "language": "python",
   "name": "python3"
  },
  "language_info": {
   "codemirror_mode": {
    "name": "ipython",
    "version": 3
   },
   "file_extension": ".py",
   "mimetype": "text/x-python",
   "name": "python",
   "nbconvert_exporter": "python",
   "pygments_lexer": "ipython3",
   "version": "3.8.8"
  }
 },
 "nbformat": 4,
 "nbformat_minor": 5
}
